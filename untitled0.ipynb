{
  "nbformat": 4,
  "nbformat_minor": 0,
  "metadata": {
    "colab": {
      "provenance": [],
      "authorship_tag": "ABX9TyPCg+UrWEUJEtkYEIDdXagI",
      "include_colab_link": true
    },
    "kernelspec": {
      "name": "python3",
      "display_name": "Python 3"
    },
    "language_info": {
      "name": "python"
    }
  },
  "cells": [
    {
      "cell_type": "markdown",
      "metadata": {
        "id": "view-in-github",
        "colab_type": "text"
      },
      "source": [
        "<a href=\"https://colab.research.google.com/github/22pa5a6103/dwmlab/blob/main/untitled0.ipynb\" target=\"_parent\"><img src=\"https://colab.research.google.com/assets/colab-badge.svg\" alt=\"Open In Colab\"/></a>"
      ]
    },
    {
      "cell_type": "code",
      "execution_count": null,
      "metadata": {
        "colab": {
          "base_uri": "https://localhost:8080/"
        },
        "id": "9a8IfTPBi3Uc",
        "outputId": "fef2c6de-5038-4522-861e-920ed6658177"
      },
      "outputs": [
        {
          "output_type": "stream",
          "name": "stdout",
          "text": [
            "[1 2 3]\n"
          ]
        }
      ],
      "source": [
        "import numpy as np\n",
        "x=np.array([1,2,3])\n",
        "print(x)"
      ]
    },
    {
      "cell_type": "code",
      "source": [
        "import numpy as np\n",
        "y = np.array([[1,2,3],[4,5,6]])\n",
        "print(y)"
      ],
      "metadata": {
        "colab": {
          "base_uri": "https://localhost:8080/"
        },
        "id": "2E1Z_Ybpi4p9",
        "outputId": "a92cc82a-ab22-494e-867a-64a0887918b5"
      },
      "execution_count": null,
      "outputs": [
        {
          "output_type": "stream",
          "name": "stdout",
          "text": [
            "[[1 2 3]\n",
            " [4 5 6]]\n"
          ]
        }
      ]
    },
    {
      "cell_type": "code",
      "source": [
        "import numpy as np\n",
        "np.arange(20,40,2)"
      ],
      "metadata": {
        "colab": {
          "base_uri": "https://localhost:8080/"
        },
        "id": "FzcRWd_jmvda",
        "outputId": "c17a2a61-65a8-4228-ef18-3ed7002355b7"
      },
      "execution_count": null,
      "outputs": [
        {
          "output_type": "execute_result",
          "data": {
            "text/plain": [
              "array([20, 22, 24, 26, 28, 30, 32, 34, 36, 38])"
            ]
          },
          "metadata": {},
          "execution_count": 11
        }
      ]
    },
    {
      "cell_type": "code",
      "source": [
        "import numpy as np\n",
        "b=np.append(x,[6,4,5])\n",
        "print(b)"
      ],
      "metadata": {
        "colab": {
          "base_uri": "https://localhost:8080/"
        },
        "id": "RxYZfLvtk_4V",
        "outputId": "48ea5da1-061f-46fb-bece-6cfc7511297b"
      },
      "execution_count": null,
      "outputs": [
        {
          "output_type": "stream",
          "name": "stdout",
          "text": [
            "[1 2 3 6 4 5]\n"
          ]
        }
      ]
    },
    {
      "cell_type": "code",
      "source": [
        "import numpy as np\n",
        "print(\"the elements in x before deleting\",x)\n",
        "ab=np.delete(x,2)\n",
        "print(\"the elements in x after deleting\",ab)"
      ],
      "metadata": {
        "colab": {
          "base_uri": "https://localhost:8080/"
        },
        "id": "7IW9j1fyoqjL",
        "outputId": "96bee940-4245-4afa-9b9b-9fbd988d4ec8"
      },
      "execution_count": null,
      "outputs": [
        {
          "output_type": "stream",
          "name": "stdout",
          "text": [
            "the elements in x before deleting [1 2 3]\n",
            "the elements in x after deleting [1 2]\n"
          ]
        }
      ]
    },
    {
      "cell_type": "code",
      "source": [
        "import numpy as np\n",
        "b=np.array([6,5,3,1,7,9])\n",
        "b[b<4]= -3\n",
        "print(b)"
      ],
      "metadata": {
        "colab": {
          "base_uri": "https://localhost:8080/"
        },
        "id": "fV-F64hYqocY",
        "outputId": "e14d8861-98e5-4e96-cada-9304d4810826"
      },
      "execution_count": null,
      "outputs": [
        {
          "output_type": "stream",
          "name": "stdout",
          "text": [
            "[ 6  5 -3 -3  7  9]\n"
          ]
        }
      ]
    },
    {
      "cell_type": "code",
      "source": [
        "import numpy as np\n",
        "a=np.array([20,30,40,50])\n",
        "b=np.arange(4)\n",
        "print(\"the elements a are\",a)\n",
        "print(\"the elements b are\", b)\n",
        "print(\"addition of elements\",a+b)\n",
        "print(\"subtraction of elements\",a-b)\n",
        "print(\"multiplication of elements\",a*b)\n",
        "print(\"divison of elements\",a/b)\n",
        "print(\"modules of elements\",a%b)\n",
        "print(\"result after increment power 4\",b**4)\n",
        "print(\"result after applying sin and multiplication with 10\",10*np.sin(10))\n"
      ],
      "metadata": {
        "colab": {
          "base_uri": "https://localhost:8080/"
        },
        "id": "Zfd_NnpUrdlx",
        "outputId": "380c03da-8710-47e5-e1a6-7af1a21c3509"
      },
      "execution_count": null,
      "outputs": [
        {
          "output_type": "stream",
          "name": "stdout",
          "text": [
            "the elements a are [20 30 40 50]\n",
            "the elements b are [0 1 2 3]\n",
            "addition of elements [20 31 42 53]\n",
            "subtraction of elements [20 29 38 47]\n",
            "multiplication of elements [  0  30  80 150]\n",
            "divison of elements [        inf 30.         20.         16.66666667]\n",
            "modules of elements [0 0 0 2]\n",
            "result after increment power 4 [ 0  1 16 81]\n",
            "result after applying sin and multiplication with 10 -5.440211108893697\n"
          ]
        },
        {
          "output_type": "stream",
          "name": "stderr",
          "text": [
            "<ipython-input-16-930b3fc3ff0b>:9: RuntimeWarning: divide by zero encountered in true_divide\n",
            "  print(\"divison of elements\",a/b)\n",
            "<ipython-input-16-930b3fc3ff0b>:10: RuntimeWarning: divide by zero encountered in remainder\n",
            "  print(\"modules of elements\",a%b)\n"
          ]
        }
      ]
    },
    {
      "cell_type": "code",
      "source": [
        "import numpy as np\n",
        "a=np.arange(10)**3\n",
        "print(\"the elements is\",a)\n",
        "print(\"the output of a[2:4] is\",a[2:4])\n",
        "print(\"the output of a[-1]\", a[-1])"
      ],
      "metadata": {
        "id": "y6ut9d57wjOF",
        "outputId": "6f8defb6-be16-4049-dfdf-eb6f401fbef8",
        "colab": {
          "base_uri": "https://localhost:8080/"
        }
      },
      "execution_count": 2,
      "outputs": [
        {
          "output_type": "stream",
          "name": "stdout",
          "text": [
            "the elements is [  0   1   8  27  64 125 216 343 512 729]\n",
            "the output of a[2:4] is [ 8 27]\n",
            "the output of a[-1] 729\n"
          ]
        }
      ]
    },
    {
      "cell_type": "code",
      "source": [
        "import numpy as np\n",
        "a=np.arange(12).reshape(4,3)**2\n",
        "print(\"the elements in array\", a)\n",
        "print(\"the output of a[2:6]\",a[2:6])\n",
        "print(\"the output of a[2:4,2:3]\",a[2:4,2:3])\n"
      ],
      "metadata": {
        "id": "yApzz4HscRpC",
        "outputId": "07495821-e37a-40f9-ae22-5595d893b353",
        "colab": {
          "base_uri": "https://localhost:8080/"
        }
      },
      "execution_count": 3,
      "outputs": [
        {
          "output_type": "stream",
          "name": "stdout",
          "text": [
            "the elements in array [[  0   1   4]\n",
            " [  9  16  25]\n",
            " [ 36  49  64]\n",
            " [ 81 100 121]]\n",
            "the output of a[2:6] [[ 36  49  64]\n",
            " [ 81 100 121]]\n",
            "the output of a[2:4,2:3] [[ 64]\n",
            " [121]]\n"
          ]
        }
      ]
    },
    {
      "cell_type": "code",
      "source": [
        "import numpy as np\n",
        "a=np.arange(12).reshape(4,3)**2\n",
        "print(\"the elements in array\",a)\n",
        "for i in a:\n",
        "  print(i*2)"
      ],
      "metadata": {
        "id": "Ji3RyI5od7eu",
        "outputId": "d5c8fcdf-ddee-48cb-c5d5-3153ecbc5bb2",
        "colab": {
          "base_uri": "https://localhost:8080/"
        }
      },
      "execution_count": 6,
      "outputs": [
        {
          "output_type": "stream",
          "name": "stdout",
          "text": [
            "the elements in array [[  0   1   4]\n",
            " [  9  16  25]\n",
            " [ 36  49  64]\n",
            " [ 81 100 121]]\n",
            "[0 2 8]\n",
            "[18 32 50]\n",
            "[ 72  98 128]\n",
            "[162 200 242]\n"
          ]
        }
      ]
    },
    {
      "cell_type": "code",
      "source": [
        "import numpy as np\n",
        "a=np.arange(12).reshape(4,3)**2\n",
        "print(\"the elements are\", a)\n",
        "print(\" after reshaping to 2 bby 6 matrix \\n\",a.reshape(2,6))\n",
        "print(\"to flatten the array\", a.ravel())\n",
        "print(\"to transpose the array \\n\",a.T)"
      ],
      "metadata": {
        "id": "76WEpLiTgQ59",
        "outputId": "bdbed8b9-d8bd-4966-dbcc-5ca18373148d",
        "colab": {
          "base_uri": "https://localhost:8080/"
        }
      },
      "execution_count": 7,
      "outputs": [
        {
          "output_type": "stream",
          "name": "stdout",
          "text": [
            "the elements are [[  0   1   4]\n",
            " [  9  16  25]\n",
            " [ 36  49  64]\n",
            " [ 81 100 121]]\n",
            " after reshaping to 2 bby 6 matrix \n",
            " [[  0   1   4   9  16  25]\n",
            " [ 36  49  64  81 100 121]]\n",
            "to flatten the array [  0   1   4   9  16  25  36  49  64  81 100 121]\n",
            "to transpose the array \n",
            " [[  0   9  36  81]\n",
            " [  1  16  49 100]\n",
            " [  4  25  64 121]]\n"
          ]
        }
      ]
    }
  ]
}